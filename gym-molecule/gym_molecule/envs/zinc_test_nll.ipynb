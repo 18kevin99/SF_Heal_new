{
 "cells": [
  {
   "cell_type": "code",
   "execution_count": 12,
   "metadata": {},
   "outputs": [],
   "source": [
    "from rdkit.Chem import rdMolDescriptors\n",
    "from rdkit.Chem.Lipinski import NumHAcceptors, NumHDonors\n",
    "from rdkit.Chem.FilterCatalog import FilterCatalogParams, FilterCatalog\n",
    "# import gym_molecule\n",
    "import copy\n",
    "import networkx as nx\n",
    "from gym_molecule.envs.sascorer import calculateScore\n",
    "from gym_molecule.dataset.dataset_utils import gdb_dataset,mol_to_nx,nx_to_mol\n",
    "import random\n",
    "import time\n",
    "import pandas as pd\n",
    "import seaborn as sns\n",
    "import matplotlib.pyplot as plt\n",
    "import csv\n",
    "import numpy as np\n",
    "from contextlib import contextmanager\n",
    "import sys, os\n",
    "import tensorflow.compat.v1 as tf\n",
    "import gym_molecule.models.reinvent.model as mm"
   ]
  },
  {
   "cell_type": "code",
   "execution_count": 4,
   "metadata": {},
   "outputs": [],
   "source": [
    "def read_smi_file(file_path):\n",
    "    \"\"\"\n",
    "    Reads a SMILES file.\n",
    "    :param file_path: Path to a SMILES file.\n",
    "    :return: A list with all the SMILES.\n",
    "    \"\"\"\n",
    "    with open(file_path, \"r\") as smi_file:\n",
    "        return [smi.rstrip().split(\",\")[0] for smi in smi_file]"
   ]
  },
  {
   "cell_type": "code",
   "execution_count": 5,
   "metadata": {},
   "outputs": [],
   "source": [
    "model = mm.Model.load_from_file('/data/data/kcoutinh/Research/rl_graph_generation/gym-molecule/gym_molecule/kev_models/model_zinc_250.78')"
   ]
  },
  {
   "cell_type": "code",
   "execution_count": 6,
   "metadata": {},
   "outputs": [],
   "source": [
    "dataset = read_smi_file('/data/data/kcoutinh/Research/rl_graph_generation/gym-molecule/gym_molecule/dataset/sampled_smiles_2.smi')"
   ]
  },
  {
   "cell_type": "code",
   "execution_count": 7,
   "metadata": {},
   "outputs": [],
   "source": [
    "df_org = pd.DataFrame(dataset, columns=['SMILES'])"
   ]
  },
  {
   "cell_type": "code",
   "execution_count": 8,
   "metadata": {},
   "outputs": [
    {
     "name": "stdout",
     "output_type": "stream",
     "text": [
      "tensor([-55.7720], grad_fn=<AddBackward>)\n"
     ]
    }
   ],
   "source": [
    "print(model.likelihood('CCC(C)(C)c1cc(N2CCN(Cc3ccccc3)C(=O)C(C)(C#N)C2)c2c(F)ccc(Cl)c2Cl)cc(OC)c1'))"
   ]
  },
  {
   "cell_type": "code",
   "execution_count": 10,
   "metadata": {},
   "outputs": [
    {
     "name": "stdout",
     "output_type": "stream",
     "text": [
      "COc1ccc([C@H](C)[NH2+]C[C@@H](C)SC)c(OC)c1\n"
     ]
    }
   ],
   "source": [
    "for mol in df_org['SMILES']:\n",
    "    str = mol\n",
    "\n",
    "print(str)"
   ]
  },
  {
   "cell_type": "code",
   "execution_count": 21,
   "metadata": {},
   "outputs": [],
   "source": [
    "log_lh = []\n",
    "\n",
    "for mol in df_org['SMILES']:\n",
    "    log_lh.append(model.likelihood(mol).item())"
   ]
  },
  {
   "cell_type": "code",
   "execution_count": 22,
   "metadata": {},
   "outputs": [],
   "source": [
    "df_org['Log_likeli'] = log_lh"
   ]
  },
  {
   "cell_type": "code",
   "execution_count": 23,
   "metadata": {},
   "outputs": [
    {
     "data": {
      "image/png": "[encoded data removed]",
      "text/plain": [
       "<Figure size 640x480 with 1 Axes>"
      ]
     },
     "metadata": {},
     "output_type": "display_data"
    }
   ],
   "source": [
    "sns.histplot(data = df_org, x =\"Log_likeli\", bins = 30)\n",
    "plt.show()"
   ]
  }
 ],
 "metadata": {
  "kernelspec": {
   "display_name": "Python 3",
   "language": "python",
   "name": "python3"
  },
  "language_info": {
   "codemirror_mode": {
    "name": "ipython",
    "version": 3
   },
   "file_extension": ".py",
   "mimetype": "text/x-python",
   "name": "python",
   "nbconvert_exporter": "python",
   "pygments_lexer": "ipython3",
   "version": "3.7.16"
  }
 },
 "nbformat": 4,
 "nbformat_minor": 2
}
